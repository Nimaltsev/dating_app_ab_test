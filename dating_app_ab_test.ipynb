{
 "cells": [
  {
   "cell_type": "markdown",
   "metadata": {},
   "source": [
    "### Dating App A/B test\n",
    "Механика приложения следующая: пользователи видят в приложении анкеты друг друга и могут ставить друг другу лайки или дизлайки. Если пользователи поставили друг другу лайк – это называется мэтч, и у пользователей появляется возможность познакомиться.\n",
    "\n",
    "Команда приложения разработала новый алгоритм для поиска наиболее подходящих анкет. Для проверки работы алгоритма был проведен АБ-тест. Все пользователи были разделены на две группы. Пользователи в группе с номером 0 пользовались приложением со старым алгоритмом. Все пользователи в группе 1 пользовались приложением с новым алгоритмом для поиска анкет.\n",
    "\n",
    "Задача – оценить, правда ли, что новый алгоритм улучшил качество сервиса."
   ]
  },
  {
   "cell_type": "code",
   "execution_count": 69,
   "metadata": {},
   "outputs": [],
   "source": [
    "import pandas as pd\n",
    "import numpy as np\n",
    "import seaborn as sns\n",
    "import matplotlib.pyplot as plt\n",
    "from scipy import stats as ss\n",
    "from statsmodels.regression.linear_model import OLS\n",
    "import statsmodels.api as sm"
   ]
  },
  {
   "cell_type": "code",
   "execution_count": 2,
   "metadata": {},
   "outputs": [],
   "source": [
    "df = pd.read_csv('dating_data.csv')"
   ]
  },
  {
   "cell_type": "markdown",
   "metadata": {},
   "source": [
    "Будем считать, что метрика, отражающая качество сервиса - среднее количество мэтчей на пользователя. Так как в колонках user_id_1 и\n",
    "user_id_2 представлены одни и те же юзеры с айди от 1 до 1000, то среднее можно оценить по одной колонке - user_id_1\n",
    "\n",
    "Сформулируем нулевую гипотезу - новая механика не влияет на метрику, альтернативная гипотеза, соответственно, что новая механика на неё влияет."
   ]
  },
  {
   "cell_type": "code",
   "execution_count": 73,
   "metadata": {
    "scrolled": true
   },
   "outputs": [
    {
     "name": "stdout",
     "output_type": "stream",
     "text": [
      "0.40207776177741206\n",
      "0.19490818030050083\n"
     ]
    }
   ],
   "source": [
    "# Сначала посмотрим на разницу, не используя статистический критерий. Кажется, что новая механика даёт значительно больше мэтчей\n",
    "print(df.query('group == 1').is_match.sum() / df.query('group == 1').group.count())\n",
    "print(df.query('group == 0').is_match.sum() / df.query('group == 0').group.count())"
   ]
  },
  {
   "cell_type": "code",
   "execution_count": 72,
   "metadata": {},
   "outputs": [],
   "source": [
    "df_1 = df.groupby(['user_id_1', 'group'], as_index=False)['is_match']\\\n",
    "         .sum()\\\n",
    "         .rename(columns={'is_match': 'matches_count'})"
   ]
  },
  {
   "cell_type": "markdown",
   "metadata": {},
   "source": [
    "Если взглянуть на распределения по группам, то видно, что группа 1 (с новой механикой) имеет более высокое среднее количество мэтчей и нормальное распределение. В группе со старой механикой большая часть пользователей имеют 1-2 мэтча."
   ]
  },
  {
   "cell_type": "code",
   "execution_count": 5,
   "metadata": {},
   "outputs": [
    {
     "data": {
      "text/plain": [
       "<Axes: xlabel='matches_count', ylabel='Count'>"
      ]
     },
     "execution_count": 5,
     "metadata": {},
     "output_type": "execute_result"
    },
    {
     "data": {
      "image/png": "[encoded data removed]",
      "text/plain": [
       "<Figure size 640x480 with 1 Axes>"
      ]
     },
     "metadata": {},
     "output_type": "display_data"
    }
   ],
   "source": [
    "sns.histplot(data=df_1, x='matches_count', hue='group')"
   ]
  },
  {
   "cell_type": "markdown",
   "metadata": {},
   "source": [
    "Проведем анализ методом линейной регрессии, сравним 2 категориальные переменные:"
   ]
  },
  {
   "cell_type": "code",
   "execution_count": 6,
   "metadata": {},
   "outputs": [
    {
     "name": "stdout",
     "output_type": "stream",
     "text": [
      "                            OLS Regression Results                            \n",
      "==============================================================================\n",
      "Dep. Variable:          matches_count   R-squared:                       0.690\n",
      "Model:                            OLS   Adj. R-squared:                  0.690\n",
      "Method:                 Least Squares   F-statistic:                     2226.\n",
      "Date:                Sun, 07 Jan 2024   Prob (F-statistic):          2.29e-256\n",
      "Time:                        20:52:21   Log-Likelihood:                -2111.3\n",
      "No. Observations:                1000   AIC:                             4227.\n",
      "Df Residuals:                     998   BIC:                             4236.\n",
      "Df Model:                           1                                         \n",
      "Covariance Type:            nonrobust                                         \n",
      "=========================================================================================\n",
      "                            coef    std err          t      P>|t|      [0.025      0.975]\n",
      "-----------------------------------------------------------------------------------------\n",
      "group                     5.9694      0.127     47.181      0.000       5.721       6.218\n",
      "average_matches_count     1.8643      0.089     20.859      0.000       1.689       2.040\n",
      "==============================================================================\n",
      "Omnibus:                       37.337   Durbin-Watson:                   2.023\n",
      "Prob(Omnibus):                  0.000   Jarque-Bera (JB):               66.415\n",
      "Skew:                           0.275   Prob(JB):                     3.79e-15\n",
      "Kurtosis:                       4.136   Cond. No.                         2.62\n",
      "==============================================================================\n",
      "\n",
      "Notes:\n",
      "[1] Standard Errors assume that the covariance matrix of the errors is correctly specified.\n"
     ]
    }
   ],
   "source": [
    "df_1 = df_1.assign(average_matches_count=1)\n",
    "X = df_1[['group', 'average_matches_count']]\n",
    "Y = df_1['matches_count']\n",
    "estimator = OLS(Y, X).fit()\n",
    "print(estimator.summary())"
   ]
  },
  {
   "cell_type": "markdown",
   "metadata": {},
   "source": [
    "Согласно полученным результатам, с применением новой механики есть статистически значимое увеличение целевой метрики (количество мэтчей на пользователя). Дополнительно проведем анализ среднего значения методом Bootstrap"
   ]
  },
  {
   "cell_type": "code",
   "execution_count": 7,
   "metadata": {},
   "outputs": [
    {
     "data": {
      "text/plain": [
       "0"
      ]
     },
     "execution_count": 7,
     "metadata": {},
     "output_type": "execute_result"
    }
   ],
   "source": [
    "df_1.matches_count = df_1.matches_count.astype('float')\n",
    "df_1.matches_count.isna().sum()"
   ]
  },
  {
   "cell_type": "code",
   "execution_count": 70,
   "metadata": {},
   "outputs": [
    {
     "data": {
      "text/plain": [
       "BootstrapResult(confidence_interval=ConfidenceInterval(low=7.617234468937876, high=8.048096192384769), bootstrap_distribution=array([7.8496994 , 7.74348697, 7.79559118, ..., 7.8496994 , 7.94589178,\n",
       "       7.82164329]), standard_error=0.10991030224902813)"
      ]
     },
     "execution_count": 70,
     "metadata": {},
     "output_type": "execute_result"
    }
   ],
   "source": [
    "ss.bootstrap((df_1.query('group == 1').matches_count, ), np.mean)"
   ]
  },
  {
   "cell_type": "code",
   "execution_count": 9,
   "metadata": {},
   "outputs": [
    {
     "data": {
      "text/plain": [
       "BootstrapResult(confidence_interval=ConfidenceInterval(low=1.746506986027944, high=1.9860279441117765), bootstrap_distribution=array([1.93812375, 1.84031936, 1.91417166, ..., 1.89820359, 1.84431138,\n",
       "       1.90219561]), standard_error=0.0609753925305885)"
      ]
     },
     "execution_count": 9,
     "metadata": {},
     "output_type": "execute_result"
    }
   ],
   "source": [
    "ss.bootstrap((df_1.query('group == 0').matches_count, ), np.mean)"
   ]
  },
  {
   "cell_type": "markdown",
   "metadata": {},
   "source": [
    "Видим, что среднее значение целевой метрики (среднее количество мэтчей на юзера) при применении новой механики имеет доверительный интервал с нижней границей 7.609, что значительно выше верхней границы доверительного интервала метрики"
   ]
  },
  {
   "cell_type": "markdown",
   "metadata": {},
   "source": [
    "Теперь взглянем на еще одну метрику и выясним, выросло ли <b>общее число активностей</b> на пользователя:"
   ]
  },
  {
   "cell_type": "code",
   "execution_count": 57,
   "metadata": {},
   "outputs": [],
   "source": [
    "df_2 = df.groupby(['user_id_1', 'group'], as_index=False)['is_match'].count().rename(columns={'is_match': 'total_activity_count'})"
   ]
  },
  {
   "cell_type": "markdown",
   "metadata": {},
   "source": [
    "Взглянем на распределение, видим, что оно близко к нормальному:"
   ]
  },
  {
   "cell_type": "code",
   "execution_count": 39,
   "metadata": {},
   "outputs": [
    {
     "data": {
      "text/plain": [
       "<Axes: xlabel='total_activity_count', ylabel='Count'>"
      ]
     },
     "execution_count": 39,
     "metadata": {},
     "output_type": "execute_result"
    },
    {
     "data": {
      "image/png": "[encoded data removed]",
      "text/plain": [
       "<Figure size 640x480 with 1 Axes>"
      ]
     },
     "metadata": {},
     "output_type": "display_data"
    }
   ],
   "source": [
    "sns.histplot(data=df_2, x='total_activity_count', hue='group')"
   ]
  },
  {
   "cell_type": "markdown",
   "metadata": {},
   "source": [
    "Взглянем на среднее количество активностей на пользователя:"
   ]
  },
  {
   "cell_type": "code",
   "execution_count": 67,
   "metadata": {},
   "outputs": [
    {
     "name": "stdout",
     "output_type": "stream",
     "text": [
      "9.564870259481038 - количество активновностей на юзера в 0 группе (контроль)\n",
      "19.482965931863728 - количество активновностей на юзера в 1 группе (тест)\n"
     ]
    }
   ],
   "source": [
    "print(df_2.query('group==0').total_activity_count.mean(), '- количество активновностей на юзера в 0 группе (контроль)')\n",
    "print(df_2.query('group==1').total_activity_count.mean(), '- количество активновностей на юзера в 1 группе (тест)')"
   ]
  },
  {
   "cell_type": "markdown",
   "metadata": {},
   "source": [
    "На первый взгляд оно значительно различается\n",
    "Для проверки этого утверждения применим t-тест (выборки довольно большие, так что небольшое отхождение от нормальности не сильно важно, учитвая отсутствие больших выбросов):"
   ]
  },
  {
   "cell_type": "markdown",
   "metadata": {},
   "source": [
    "Для начала критерим Левена проверим гомогенность дисперсий:"
   ]
  },
  {
   "cell_type": "code",
   "execution_count": 60,
   "metadata": {},
   "outputs": [
    {
     "data": {
      "text/plain": [
       "LeveneResult(statistic=0.4804538582845789, pvalue=0.48837808141783545)"
      ]
     },
     "execution_count": 60,
     "metadata": {},
     "output_type": "execute_result"
    }
   ],
   "source": [
    "ss.levene(df_2.query('group==0').total_activity_count, df_2.query('group==1').total_activity_count)"
   ]
  },
  {
   "cell_type": "markdown",
   "metadata": {},
   "source": [
    "И проведем сам тест"
   ]
  },
  {
   "cell_type": "code",
   "execution_count": 62,
   "metadata": {},
   "outputs": [
    {
     "data": {
      "text/plain": [
       "Ttest_indResult(statistic=-51.85383774946492, pvalue=1.8942877064043142e-285)"
      ]
     },
     "execution_count": 62,
     "metadata": {},
     "output_type": "execute_result"
    }
   ],
   "source": [
    "ss.ttest_ind(df_2.query('group==0').total_activity_count, df_2.query('group==1').total_activity_count)"
   ]
  },
  {
   "cell_type": "markdown",
   "metadata": {},
   "source": [
    "### Вывод: рост среднего количества мэтчей на юзера статистически значим, следовательно качество сервиса выросло, целесообразно выкатить изменения на всю аудиторию. Кроме того, выросло и общее количество взаимодействий, что явно показало более высокую вовлеченность пользователей"
   ]
  }
 ],
 "metadata": {
  "kernelspec": {
   "display_name": "Python 3",
   "language": "python",
   "name": "python3"
  },
  "language_info": {
   "codemirror_mode": {
    "name": "ipython",
    "version": 3
   },
   "file_extension": ".py",
   "mimetype": "text/x-python",
   "name": "python",
   "nbconvert_exporter": "python",
   "pygments_lexer": "ipython3",
   "version": "3.10.9"
  }
 },
 "nbformat": 4,
 "nbformat_minor": 4
}
